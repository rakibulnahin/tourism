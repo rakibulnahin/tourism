{
 "cells": [
  {
   "cell_type": "code",
   "execution_count": 1,
   "id": "8a504a27-84bb-48f4-91f2-a564845ed0f1",
   "metadata": {},
   "outputs": [],
   "source": [
    "import pandas as pd\n",
    "import numpy as np\n",
    "import re"
   ]
  },
  {
   "cell_type": "code",
   "execution_count": 2,
   "id": "ef39c433-78c9-47dd-9a7e-eda9eb442287",
   "metadata": {},
   "outputs": [],
   "source": [
    "data = pd.read_csv(\"data.csv\")"
   ]
  },
  {
   "cell_type": "code",
   "execution_count": 3,
   "id": "f6f4a89a-6215-4718-a295-21139f696f80",
   "metadata": {},
   "outputs": [
    {
     "data": {
      "text/html": [
       "<div>\n",
       "<style scoped>\n",
       "    .dataframe tbody tr th:only-of-type {\n",
       "        vertical-align: middle;\n",
       "    }\n",
       "\n",
       "    .dataframe tbody tr th {\n",
       "        vertical-align: top;\n",
       "    }\n",
       "\n",
       "    .dataframe thead th {\n",
       "        text-align: right;\n",
       "    }\n",
       "</style>\n",
       "<table border=\"1\" class=\"dataframe\">\n",
       "  <thead>\n",
       "    <tr style=\"text-align: right;\">\n",
       "      <th></th>\n",
       "      <th>name</th>\n",
       "      <th>review</th>\n",
       "      <th>image path</th>\n",
       "    </tr>\n",
       "  </thead>\n",
       "  <tbody>\n",
       "    <tr>\n",
       "      <th>0</th>\n",
       "      <td>Hardy Reef, QLD</td>\n",
       "      <td>the reef is 60km out from shute harbour/airli...</td>\n",
       "      <td>img/image0.png</td>\n",
       "    </tr>\n",
       "    <tr>\n",
       "      <th>1</th>\n",
       "      <td>Burra Homestead, SA</td>\n",
       "      <td>just outside burra, 160km north of adelaideho...</td>\n",
       "      <td>img/image1.png</td>\n",
       "    </tr>\n",
       "    <tr>\n",
       "      <th>2</th>\n",
       "      <td>The Twelve Apostles, VIC</td>\n",
       "      <td>near princetown, 200km down the great ocean r...</td>\n",
       "      <td>img/image2.png</td>\n",
       "    </tr>\n",
       "    <tr>\n",
       "      <th>3</th>\n",
       "      <td>Bungle Bungle Ranges, WA</td>\n",
       "      <td>purnululu national park, wa, 250km south of k...</td>\n",
       "      <td>img/image3.png</td>\n",
       "    </tr>\n",
       "    <tr>\n",
       "      <th>4</th>\n",
       "      <td>Hill Inlet, Whitsunday Island</td>\n",
       "      <td>east coast of whitsunday island, the largest ...</td>\n",
       "      <td>img/image4.png</td>\n",
       "    </tr>\n",
       "    <tr>\n",
       "      <th>...</th>\n",
       "      <td>...</td>\n",
       "      <td>...</td>\n",
       "      <td>...</td>\n",
       "    </tr>\n",
       "    <tr>\n",
       "      <th>95</th>\n",
       "      <td>Stockton Beach Sand Dunes, NSW</td>\n",
       "      <td>200km north of sydney, just above newcastleho...</td>\n",
       "      <td>img/image95.png</td>\n",
       "    </tr>\n",
       "    <tr>\n",
       "      <th>96</th>\n",
       "      <td>Bunda Cliffs, Head of Bight, SA</td>\n",
       "      <td>about 280km west of yalata, along the great a...</td>\n",
       "      <td>img/image96.png</td>\n",
       "    </tr>\n",
       "    <tr>\n",
       "      <th>97</th>\n",
       "      <td>Captain Cook Highway, Tropical North Qld</td>\n",
       "      <td>70km between cairns and port douglashow to se...</td>\n",
       "      <td>img/image97.png</td>\n",
       "    </tr>\n",
       "    <tr>\n",
       "      <th>98</th>\n",
       "      <td>The Nut, TAS</td>\n",
       "      <td>400km north-west of hobart, in stanleyhow to ...</td>\n",
       "      <td>img/image98.png</td>\n",
       "    </tr>\n",
       "    <tr>\n",
       "      <th>99</th>\n",
       "      <td>Perry Sandhills, NSW</td>\n",
       "      <td>near the victorian border, 6km west of wentwo...</td>\n",
       "      <td>img/image99.png</td>\n",
       "    </tr>\n",
       "  </tbody>\n",
       "</table>\n",
       "<p>100 rows × 3 columns</p>\n",
       "</div>"
      ],
      "text/plain": [
       "                                        name  \\\n",
       "0                            Hardy Reef, QLD   \n",
       "1                        Burra Homestead, SA   \n",
       "2                   The Twelve Apostles, VIC   \n",
       "3                   Bungle Bungle Ranges, WA   \n",
       "4              Hill Inlet, Whitsunday Island   \n",
       "..                                       ...   \n",
       "95            Stockton Beach Sand Dunes, NSW   \n",
       "96           Bunda Cliffs, Head of Bight, SA   \n",
       "97  Captain Cook Highway, Tropical North Qld   \n",
       "98                              The Nut, TAS   \n",
       "99                      Perry Sandhills, NSW   \n",
       "\n",
       "                                               review       image path  \n",
       "0    the reef is 60km out from shute harbour/airli...   img/image0.png  \n",
       "1    just outside burra, 160km north of adelaideho...   img/image1.png  \n",
       "2    near princetown, 200km down the great ocean r...   img/image2.png  \n",
       "3    purnululu national park, wa, 250km south of k...   img/image3.png  \n",
       "4    east coast of whitsunday island, the largest ...   img/image4.png  \n",
       "..                                                ...              ...  \n",
       "95   200km north of sydney, just above newcastleho...  img/image95.png  \n",
       "96   about 280km west of yalata, along the great a...  img/image96.png  \n",
       "97   70km between cairns and port douglashow to se...  img/image97.png  \n",
       "98   400km north-west of hobart, in stanleyhow to ...  img/image98.png  \n",
       "99   near the victorian border, 6km west of wentwo...  img/image99.png  \n",
       "\n",
       "[100 rows x 3 columns]"
      ]
     },
     "execution_count": 3,
     "metadata": {},
     "output_type": "execute_result"
    }
   ],
   "source": [
    "data = data.drop(\"Unnamed: 0\", axis=1)\n",
    "data"
   ]
  },
  {
   "cell_type": "code",
   "execution_count": 4,
   "id": "a17af168-98f0-4f43-9e36-9a5f9375ad32",
   "metadata": {},
   "outputs": [
    {
     "data": {
      "text/plain": [
       "0     Hardy Reef  QLD the reef is 60km out from shut...\n",
       "1     Burra Homestead  SA just outside burra  160km ...\n",
       "2     The Twelve Apostles  VIC near princetown  200k...\n",
       "3     Bungle Bungle Ranges  WA purnululu national pa...\n",
       "4     Hill Inlet  Whitsunday Island east coast of wh...\n",
       "                            ...                        \n",
       "95    Stockton Beach Sand Dunes  NSW 200km north of ...\n",
       "96    Bunda Cliffs  Head of Bight  SA about 280km we...\n",
       "97    Captain Cook Highway  Tropical North Qld 70km ...\n",
       "98    The Nut  TAS 400km north west of hobart  in st...\n",
       "99    Perry Sandhills  NSW near the victorian border...\n",
       "Length: 100, dtype: object"
      ]
     },
     "execution_count": 4,
     "metadata": {},
     "output_type": "execute_result"
    }
   ],
   "source": [
    "clean_text = data.apply(lambda x: re.sub(r'[^\\w\\s]', ' ', x[\"name\"]+x[\"review\"]), axis=1)\n",
    "# clean_text = clean_text.apply(lambda x: re.sub(r'[]+', ' ', x), axis=1)\n",
    "clean_text"
   ]
  },
  {
   "cell_type": "code",
   "execution_count": 7,
   "id": "77ad63e9-8cfc-4d24-a985-4a833cf2470d",
   "metadata": {},
   "outputs": [
    {
     "data": {
      "text/plain": [
       "'Hardy Reef  QLD the reef is 60km out from shute harbour airlie beachhow to see it for yourself  most of the great barrier reef s attractions lie under the surface  of course  and hardy reef in its southern section  further from shore and therefore less trafficked  is a great place to see them  expect a stunning array of polychromatic hard and soft corals  a couple of hundred fish species   including tusk fish  trevally  snapper  cuttlefish  moray eels  barracuda  unicorn fish  surgeonfish  angelfish  wrasse  gropers   not to mention starfish  giant clams and even the occasional passing whale  but you ll have to take to the air to see this sight and the other major local attraction  heart reef  which is in a protected area off limits to underwater tourists  hardy reef features fantasea s permanent reefworld pontoon  where you can snorkel  dive  do a semi submersible tour and even stay the night  while further out is cruise whitsundays  knuckle reef pontoon  both offer helicopter flights starting from  110  129 for 10 minutes  this image was taken from a chopper at midday  those with deeper pockets can also fly out from the whitsunday islands or the mainland   by helicopter or seaplane   in 30 minutes to save themselves the long boat ride why i love it  hardy reef is probably my favourite part of the great barrier reef  because it features beautiful turquoise colours and incredible textured patterns  this particular view holds significance to me because it was my first ever helicopter flight and aerial photo shoot     mark gray'"
      ]
     },
     "execution_count": 7,
     "metadata": {},
     "output_type": "execute_result"
    }
   ],
   "source": [
    "clean_text[0]"
   ]
  },
  {
   "cell_type": "code",
   "execution_count": null,
   "id": "fbc11eeb-0d38-4bcb-81c7-41ace553a0c3",
   "metadata": {},
   "outputs": [],
   "source": [
    "tokenizer.en"
   ]
  }
 ],
 "metadata": {
  "kernelspec": {
   "display_name": "Python 3 (ipykernel)",
   "language": "python",
   "name": "python3"
  },
  "language_info": {
   "codemirror_mode": {
    "name": "ipython",
    "version": 3
   },
   "file_extension": ".py",
   "mimetype": "text/x-python",
   "name": "python",
   "nbconvert_exporter": "python",
   "pygments_lexer": "ipython3",
   "version": "3.10.13"
  }
 },
 "nbformat": 4,
 "nbformat_minor": 5
}
